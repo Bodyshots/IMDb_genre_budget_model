{
  "cells": [
    {
      "cell_type": "markdown",
      "id": "pX_IfwmsJWHM",
      "metadata": {
        "id": "pX_IfwmsJWHM"
      },
      "source": [
        "### Installations"
      ]
    },
    {
      "cell_type": "code",
      "execution_count": 1,
      "id": "NhW8IrKGJVKF",
      "metadata": {
        "colab": {
          "base_uri": "https://localhost:8080/"
        },
        "id": "NhW8IrKGJVKF",
        "outputId": "35816c3c-484b-4a0d-af63-e78f9657d339"
      },
      "outputs": [
        {
          "name": "stdout",
          "output_type": "stream",
          "text": [
            "Requirement already satisfied: ffmpeg in c:\\users\\lanz_\\appdata\\local\\packages\\pythonsoftwarefoundation.python.3.10_qbz5n2kfra8p0\\localcache\\local-packages\\python310\\site-packages (1.4)\n",
            "Note: you may need to restart the kernel to use updated packages.\n",
            "Requirement already satisfied: scenedetect[opencv] in c:\\users\\lanz_\\appdata\\local\\packages\\pythonsoftwarefoundation.python.3.10_qbz5n2kfra8p0\\localcache\\local-packages\\python310\\site-packages (0.6.3)\n",
            "Requirement already satisfied: Click in c:\\users\\lanz_\\appdata\\local\\packages\\pythonsoftwarefoundation.python.3.10_qbz5n2kfra8p0\\localcache\\local-packages\\python310\\site-packages (from scenedetect[opencv]) (8.1.7)\n",
            "Requirement already satisfied: numpy in c:\\users\\lanz_\\appdata\\local\\packages\\pythonsoftwarefoundation.python.3.10_qbz5n2kfra8p0\\localcache\\local-packages\\python310\\site-packages (from scenedetect[opencv]) (1.26.4)\n",
            "Requirement already satisfied: platformdirs in c:\\users\\lanz_\\appdata\\local\\packages\\pythonsoftwarefoundation.python.3.10_qbz5n2kfra8p0\\localcache\\local-packages\\python310\\site-packages (from scenedetect[opencv]) (4.2.0)\n",
            "Requirement already satisfied: tqdm in c:\\users\\lanz_\\appdata\\local\\packages\\pythonsoftwarefoundation.python.3.10_qbz5n2kfra8p0\\localcache\\local-packages\\python310\\site-packages (from scenedetect[opencv]) (4.66.2)\n",
            "Requirement already satisfied: opencv-python in c:\\users\\lanz_\\appdata\\local\\packages\\pythonsoftwarefoundation.python.3.10_qbz5n2kfra8p0\\localcache\\local-packages\\python310\\site-packages (from scenedetect[opencv]) (4.9.0.80)\n",
            "Requirement already satisfied: colorama in c:\\users\\lanz_\\appdata\\local\\packages\\pythonsoftwarefoundation.python.3.10_qbz5n2kfra8p0\\localcache\\local-packages\\python310\\site-packages (from Click->scenedetect[opencv]) (0.4.6)\n",
            "Note: you may need to restart the kernel to use updated packages.\n",
            "Requirement already satisfied: opencv-python in c:\\users\\lanz_\\appdata\\local\\packages\\pythonsoftwarefoundation.python.3.10_qbz5n2kfra8p0\\localcache\\local-packages\\python310\\site-packages (4.9.0.80)\n",
            "Requirement already satisfied: numpy>=1.21.2 in c:\\users\\lanz_\\appdata\\local\\packages\\pythonsoftwarefoundation.python.3.10_qbz5n2kfra8p0\\localcache\\local-packages\\python310\\site-packages (from opencv-python) (1.26.4)\n",
            "Note: you may need to restart the kernel to use updated packages.\n",
            "Note: you may need to restart the kernel to use updated packages.\n",
            "Looking in indexes: https://download.pytorch.org/whl/cu121\n",
            "Requirement already satisfied: torch in c:\\users\\lanz_\\appdata\\local\\packages\\pythonsoftwarefoundation.python.3.10_qbz5n2kfra8p0\\localcache\\local-packages\\python310\\site-packages (2.2.2+cu121)\n",
            "Requirement already satisfied: torchvision in c:\\users\\lanz_\\appdata\\local\\packages\\pythonsoftwarefoundation.python.3.10_qbz5n2kfra8p0\\localcache\\local-packages\\python310\\site-packages (0.17.2)\n",
            "Requirement already satisfied: torchaudio in c:\\users\\lanz_\\appdata\\local\\packages\\pythonsoftwarefoundation.python.3.10_qbz5n2kfra8p0\\localcache\\local-packages\\python310\\site-packages (2.2.2+cu121)\n",
            "Requirement already satisfied: filelock in c:\\users\\lanz_\\appdata\\local\\packages\\pythonsoftwarefoundation.python.3.10_qbz5n2kfra8p0\\localcache\\local-packages\\python310\\site-packages (from torch) (3.13.3)\n",
            "Requirement already satisfied: typing-extensions>=4.8.0 in c:\\users\\lanz_\\appdata\\local\\packages\\pythonsoftwarefoundation.python.3.10_qbz5n2kfra8p0\\localcache\\local-packages\\python310\\site-packages (from torch) (4.10.0)\n",
            "Requirement already satisfied: sympy in c:\\users\\lanz_\\appdata\\local\\packages\\pythonsoftwarefoundation.python.3.10_qbz5n2kfra8p0\\localcache\\local-packages\\python310\\site-packages (from torch) (1.12)\n",
            "Requirement already satisfied: networkx in c:\\users\\lanz_\\appdata\\local\\packages\\pythonsoftwarefoundation.python.3.10_qbz5n2kfra8p0\\localcache\\local-packages\\python310\\site-packages (from torch) (3.3)\n",
            "Requirement already satisfied: jinja2 in c:\\users\\lanz_\\appdata\\local\\packages\\pythonsoftwarefoundation.python.3.10_qbz5n2kfra8p0\\localcache\\local-packages\\python310\\site-packages (from torch) (3.1.3)\n",
            "Requirement already satisfied: fsspec in c:\\users\\lanz_\\appdata\\local\\packages\\pythonsoftwarefoundation.python.3.10_qbz5n2kfra8p0\\localcache\\local-packages\\python310\\site-packages (from torch) (2024.3.1)\n",
            "Requirement already satisfied: numpy in c:\\users\\lanz_\\appdata\\local\\packages\\pythonsoftwarefoundation.python.3.10_qbz5n2kfra8p0\\localcache\\local-packages\\python310\\site-packages (from torchvision) (1.26.4)\n",
            "Requirement already satisfied: pillow!=8.3.*,>=5.3.0 in c:\\users\\lanz_\\appdata\\local\\packages\\pythonsoftwarefoundation.python.3.10_qbz5n2kfra8p0\\localcache\\local-packages\\python310\\site-packages (from torchvision) (10.2.0)\n",
            "Requirement already satisfied: MarkupSafe>=2.0 in c:\\users\\lanz_\\appdata\\local\\packages\\pythonsoftwarefoundation.python.3.10_qbz5n2kfra8p0\\localcache\\local-packages\\python310\\site-packages (from jinja2->torch) (2.1.5)\n",
            "Requirement already satisfied: mpmath>=0.19 in c:\\users\\lanz_\\appdata\\local\\packages\\pythonsoftwarefoundation.python.3.10_qbz5n2kfra8p0\\localcache\\local-packages\\python310\\site-packages (from sympy->torch) (1.3.0)\n",
            "Note: you may need to restart the kernel to use updated packages.\n"
          ]
        }
      ],
      "source": [
        "%pip install ffmpeg\n",
        "%pip install scenedetect[opencv]\n",
        "%pip install opencv-python --upgrade\n",
        "%pip install -Uqq fastai\n",
        "%pip install torch torchvision torchaudio --index-url https://download.pytorch.org/whl/cu121"
      ]
    },
    {
      "cell_type": "code",
      "execution_count": 2,
      "id": "BtCNNfQudYpX",
      "metadata": {
        "id": "BtCNNfQudYpX"
      },
      "outputs": [
        {
          "name": "stderr",
          "output_type": "stream",
          "text": [
            "C:\\Users\\lanz_\\AppData\\Local\\Packages\\PythonSoftwareFoundation.Python.3.10_qbz5n2kfra8p0\\LocalCache\\local-packages\\Python310\\site-packages\\tqdm\\auto.py:21: TqdmWarning: IProgress not found. Please update jupyter and ipywidgets. See https://ipywidgets.readthedocs.io/en/stable/user_install.html\n",
            "  from .autonotebook import tqdm as notebook_tqdm\n"
          ]
        }
      ],
      "source": [
        "## Imports\n",
        "# All-purpose Libraries\n",
        "import requests\n",
        "from bs4 import BeautifulSoup\n",
        "import numpy as np\n",
        "import pandas as pd\n",
        "import os, json\n",
        "from urllib.request import urlopen\n",
        "from random import sample\n",
        "\n",
        "# For shot detection\n",
        "from scenedetect import detect, ContentDetector, split_video_ffmpeg\n",
        "\n",
        "# For frame extraction\n",
        "import cv2\n",
        "\n",
        "## Tutorial 5\n",
        "from IPython.core.interactiveshell import InteractiveShell\n",
        "\n",
        "from PIL import Image\n",
        "# PyTorch\n",
        "import torch\n",
        "from torch import optim, cuda\n",
        "from torch.utils.data import DataLoader\n",
        "import torch.nn as nn\n",
        "from torchvision import datasets, models\n",
        "from torchvision.transforms import v2\n",
        "\n",
        "# Timing utility\n",
        "from timeit import default_timer as timer\n",
        "\n",
        "# Typing\n",
        "from typing import Optional, Dict\n",
        "\n",
        "# Visualizations\n",
        "import matplotlib.pyplot as plt\n",
        "%matplotlib inline\n",
        "plt.rcParams['font.size'] = 14\n",
        "\n",
        "# Printing out all outputs\n",
        "InteractiveShell.ast_node_interactivity = 'all'\n",
        "\n",
        "## Constants\n",
        "# Genres\n",
        "GENRES = ['adventure', 'animation', 'biography', 'crime', 'musical',\n",
        "          'mystery', 'sci-fi', 'sport', 'war', 'western']\n",
        "ALL = 'all'\n",
        "GENRE_NUM = 10\n",
        "BUDGET_NUM = 3\n",
        "COMBO_NUM = GENRE_NUM * BUDGET_NUM\n",
        "DROP_P = 0.2\n",
        "SEQ_NUM = 12\n",
        "\n",
        "# Data Augementations\n",
        "RESIZE_SIZE = 256\n",
        "CENT_CROP_SIZE = 224\n",
        "TRAIN = 'train'\n",
        "VALID = 'valid'\n",
        "TEST = 'test'\n",
        "\n",
        "# Websites/URLs\n",
        "IMDB_HOST = 'https://www.imdb.com'\n",
        "VIDEO_DST = \"/video/\"\n",
        "TRAILER_URL = IMDB_HOST + VIDEO_DST\n",
        "\n",
        "# Directories\n",
        "TITLE_DST = \"/title/\"\n",
        "TRAILER_DIR = 'trailers/'\n",
        "SHOT_DIR = \"shots/\"\n",
        "FRAME_DIR = \"frames/\"\n",
        "TRAIN_DIR = \"training/\"\n",
        "VALID_DIR = \"validation/\"\n",
        "VIDEO_DIR = 'videos/'\n",
        "TEST_DIR = \"test/\"\n",
        "COMBINED_DIR = \"combined/\"\n",
        "MODELS_DIR = \"models/\"\n",
        "\n",
        "# Trailer Base Directories\n",
        "TRAILER_VIDEO_DIR = TRAILER_DIR + VIDEO_DIR\n",
        "TRAILER_SHOT_DIR = TRAILER_DIR + SHOT_DIR\n",
        "TRAILER_FRAME_DIR = TRAILER_DIR + FRAME_DIR\n",
        "\n",
        "# Budget + Genre Frames\n",
        "TRAILER_COMBO_DIR = TRAILER_FRAME_DIR + COMBINED_DIR\n",
        "TRAIN_COMBO_DIR = TRAILER_COMBO_DIR + TRAIN_DIR\n",
        "VALID_COMBO_DIR = TRAILER_COMBO_DIR+ VALID_DIR\n",
        "TEST_COMBO_DIR = TRAILER_COMBO_DIR + TEST_DIR\n",
        "\n",
        "# File Extensions\n",
        "MP4_END = \".mp4\"\n",
        "JPG_END = \".jpg\"\n",
        "\n",
        "# Models\n",
        "VGG16 = 'vgg16'\n",
        "EFFINETV2 = 'effinetv2'\n",
        "\n",
        "# Set Ratios\n",
        "TRAIN_RATIO = 0.7\n",
        "\n",
        "# Votes\n",
        "K = 1000\n",
        "M = 1000000\n",
        "B = 1000000000\n",
        "\n",
        "# Duration (mins)\n",
        "HOUR = 60\n",
        "\n",
        "# Budgets\n",
        "LOW = \"Low\" # 0 to 40 mill - Paul Blart: Mall Cop 2 is 30-40 mill\n",
        "LOW_END = 40000000\n",
        "MED = \"Medium\" # 40 mill - 100 mill - https://gitnux.org/average-movie-budget/#:~:text=Highlights%3A%20The%20Most%20Important%20Average,US%20is%20about%20%2435%20million.\n",
        "MED_END = 100000000\n",
        "HIGH = \"High\" # 100 mill - 200 mill - Titanic is around 200 mill\n",
        "TRAILER = 'trailer'\n",
        "\n",
        "# Training-related Constants\n",
        "CUDA = 'cuda'\n",
        "BATCH_SIZE = 32 # Change to fit hardware\n",
        "NUM_EPOCHS = 50\n",
        "EARLY_STOP = 5\n",
        "\n",
        "SAVE_FILE_EFFINETV2 = 'effinetv2-finetuned.pt'\n",
        "\n",
        "# Image Transformations\n",
        "NORM_MEAN = [0.485, 0.456, 0.406]\n",
        "NORM_STD = [0.229, 0.224, 0.225]\n",
        "\n",
        "# Errors\n",
        "BUDGET_NA = \"Budget not found\"\n",
        "TRAILER_NA = \"Trailer not found\"\n",
        "DIRECTOR_NA = \"Director not found\"\n",
        "ACTOR_NA = \"No actors found\"\n",
        "GENRES_NA = \"Genres not found\"\n",
        "HTML_NA = \"Invalid HTML content\"\n",
        "FRAME_NA = \"Failed to write frame\"\n",
        "WEBPAGE_NA = 'Failed to get web page'\n",
        "VIDEO_OPEN_NA = \"Failed to open video file\"\n",
        "FRAME_COUNT_NA = \"Failed to retrieve frame count\"\n",
        "\n",
        "# Metrics\n",
        "TRAIN_LOSS = 'train_loss'\n",
        "VALID_LOSS = 'valid_loss'\n",
        "\n",
        "TRAIN_ACC = 'train_acc'\n",
        "VALID_ACC = 'valid_acc'\n",
        "\n",
        "# Others\n",
        "SEP = '----------------------------------------------------------------'\n",
        "RGB = 'RGB'\n",
        "movies_collected = []"
      ]
    },
    {
      "cell_type": "code",
      "execution_count": 3,
      "id": "938463ef",
      "metadata": {},
      "outputs": [
        {
          "data": {
            "text/plain": [
              "True"
            ]
          },
          "execution_count": 3,
          "metadata": {},
          "output_type": "execute_result"
        }
      ],
      "source": [
        "torch.cuda.is_available()"
      ]
    },
    {
      "cell_type": "markdown",
      "id": "6c43a6ad",
      "metadata": {
        "id": "6c43a6ad"
      },
      "source": [
        "# Web Scraping Top Movies"
      ]
    },
    {
      "cell_type": "markdown",
      "id": "75oevv3zw8aG",
      "metadata": {
        "id": "75oevv3zw8aG"
      },
      "source": [
        "## Cleanup"
      ]
    },
    {
      "cell_type": "markdown",
      "id": "BP6BHZ5XxIdm",
      "metadata": {
        "id": "BP6BHZ5XxIdm"
      },
      "source": [
        "### Removes all files in specified path recursively"
      ]
    },
    {
      "cell_type": "code",
      "execution_count": 4,
      "id": "ENV_JTBZw9cu",
      "metadata": {
        "id": "ENV_JTBZw9cu"
      },
      "outputs": [],
      "source": [
        "# import shutil\n",
        "# shutil.rmtree(TRAILER_DIR)"
      ]
    },
    {
      "cell_type": "markdown",
      "id": "En1DrgDYuKg3",
      "metadata": {
        "id": "En1DrgDYuKg3"
      },
      "source": [
        "### General Helpers"
      ]
    },
    {
      "cell_type": "code",
      "execution_count": 5,
      "id": "3RTUylkTtxQA",
      "metadata": {
        "id": "3RTUylkTtxQA"
      },
      "outputs": [],
      "source": [
        "def create_dir(path: str) -> None:\n",
        "    \"\"\"\n",
        "    Create a directory at <path> if one does not exist.\n",
        "    \"\"\"\n",
        "    if (not os.path.exists(path)):\n",
        "        os.mkdir(path)\n",
        "        print(f\"Created directory {path}\")\n",
        "        \n",
        "def create_multi_dir(path: str) -> None:\n",
        "    \"\"\"\n",
        "    Create the directories on the way to <path> if they do not exist.\n",
        "    Afterwards, create a directory at <path>.\n",
        "    \"\"\"\n",
        "    splits = path.split('/')\n",
        "    acc = \"\"\n",
        "    for dir in splits:\n",
        "        acc += dir + \"/\"\n",
        "        create_dir(acc)\n",
        "\n",
        "def dir_exists(path: str) -> bool:\n",
        "    \"\"\"\n",
        "    Return True if <path> is an existing directory.\n",
        "    Return False otherwise.\n",
        "    \"\"\"\n",
        "    return os.path.isdir(path)\n",
        "\n",
        "def file_exists(path: str) -> bool:\n",
        "    \"\"\"\n",
        "    Return True if <path> is an existing file.\n",
        "    Return False otherwise.\n",
        "    \"\"\"\n",
        "    return os.path.isfile(path)"
      ]
    },
    {
      "cell_type": "code",
      "execution_count": 6,
      "id": "25d17034",
      "metadata": {
        "id": "25d17034"
      },
      "outputs": [],
      "source": [
        "#default is ==1 which means 50 entries\n",
        "def get_genre_nth_page(genre: str, n=1) -> BeautifulSoup:\n",
        "    \"\"\"\n",
        "    Return the HTML page of <n> * 50 movies with genre <genre> as a BeautifulSoup\n",
        "    object for parsing.\n",
        "    \n",
        "    Prereq: n <= 5\n",
        "    \n",
        "    Args:\n",
        "        genre (str): The genre of movies to collect\n",
        "        n (int): How many movies to collect\n",
        "        \n",
        "    Returns:\n",
        "        BeautifulSoup: The HTML page of <n> * 50 movies with genre <genre>.\n",
        "    \"\"\"\n",
        "    headers = {\"User-Agent\":\"Mozilla/5.0 (Windows NT 10.0; Win64; x64) AppleWebKit/537.36 (KHTML, like Gecko) Chrome/116.0.0.0 Safari/537.36\", \"Accept-Encoding\":\"gzip, deflate\", \"Accept\":\"text/html,application/xhtml+xml,application/xml;q=0.9,image/avif,image/webp,image/apng,*/*;q=0.8,application/signed-exchange;v=b3;q=0.7\", \"DNT\":\"1\",\"Connection\":\"close\", \"Upgrade-Insecure-Requests\":\"1\", \"Accept-Language\": \"en-US, en;q=0.5\"}\n",
        "    start = 'https://www.imdb.com/search/title/?title_type=feature&genres='\n",
        "    mid = '&count='\n",
        "    num = str(n * 50)\n",
        "    genre_url = start + genre + mid + num\n",
        "    print(genre_url)\n",
        "    response = requests.get(genre_url, headers=headers)\n",
        "\n",
        "    if not response.ok:\n",
        "        print('Status Code:', response.status_code)\n",
        "        raise Exception(WEBPAGE_NA + genre_url)\n",
        "\n",
        "    doc = BeautifulSoup(response.text)\n",
        "\n",
        "    return doc"
      ]
    },
    {
      "cell_type": "markdown",
      "id": "bdb77655",
      "metadata": {
        "id": "bdb77655"
      },
      "source": [
        "### Movie Name & URL\n",
        "\n",
        "The movie name is enclosed within `a` tag which is inside a `h3` tag. We will first obtain the `h3` tag and then use it to extract the movie link and its text (movie name):"
      ]
    },
    {
      "cell_type": "markdown",
      "id": "o8R03AXoYVpm",
      "metadata": {
        "id": "o8R03AXoYVpm"
      },
      "source": [
        "Create a Single Function to Fetch a Movie Page:\n",
        "\n",
        "This function will retrieve and parse the HTML of a movie's IMDb page and return a BeautifulSoup object."
      ]
    },
    {
      "cell_type": "code",
      "execution_count": 7,
      "id": "izIPT6buYTKg",
      "metadata": {
        "id": "izIPT6buYTKg"
      },
      "outputs": [],
      "source": [
        "def fetch_movie_page(imdb_url: str) -> Optional[BeautifulSoup]:\n",
        "    \"\"\"\n",
        "    Get the HTML response of <imdb_url>\n",
        "    \n",
        "    Args\n",
        "        imdb_url (str): The URL to fetch the page of.\n",
        "    \n",
        "    Returns:\n",
        "        Optional[BeautifulSoup]: The HTML page of the movie at <imdb_url>. Otherwise, None.\n",
        "    \"\"\"\n",
        "    headers = {\"User-Agent\": \"Mozilla/5.0 (Windows NT 10.0; Win64; x64) AppleWebKit/537.36 (KHTML, like Gecko) Chrome/116.0.0.0 Safari/537.36\"}\n",
        "    response = requests.get(imdb_url, headers=headers)\n",
        "    if response.ok: return BeautifulSoup(response.text, 'html.parser')\n",
        "    else: return None"
      ]
    },
    {
      "cell_type": "markdown",
      "id": "3dYh5YeuBH8q",
      "metadata": {
        "id": "3dYh5YeuBH8q"
      },
      "source": [
        "### Budget"
      ]
    },
    {
      "cell_type": "code",
      "execution_count": 8,
      "id": "8GXBd_NvBLp5",
      "metadata": {
        "id": "8GXBd_NvBLp5"
      },
      "outputs": [],
      "source": [
        "\n",
        "def find_budget(parsed_html: BeautifulSoup) -> str:\n",
        "    \"\"\"\n",
        "    Return the estimated budget of a movie using its <parsed_html>.\n",
        "    If the budget does not exist, return BUDGET_NA.\n",
        "    Otherwise, return HTML_NA.\n",
        "    \"\"\"\n",
        "    def cat_budget(budget_num: int) -> str:\n",
        "        \"\"\"\n",
        "        Return the appropriate budget label for <budget_num>.\n",
        "        Budget labels:\n",
        "        - Low: <budget_num> < 40000000\n",
        "        - Medium: 40000000 <= <budget_num> < 100000000\n",
        "        - High: >= 100000000\n",
        "        \n",
        "        Args\n",
        "            budget_num (int): The budget number to be categorized\n",
        "            \n",
        "        Returns\n",
        "            str: <budget_num>'s label.\n",
        "        \"\"\"\n",
        "        # Based on <budget_num>, return the corresponding range label for our CNN\n",
        "        if (budget_num < LOW_END): return LOW\n",
        "        if (budget_num < MED_END): return MED\n",
        "        return HIGH\n",
        "\n",
        "    if parsed_html:\n",
        "        # Find whether the movie has an estimated budget on its IMDB page\n",
        "        budget_tag = parsed_html.find('li', {'data-testid': 'title-boxoffice-budget'})\n",
        "        \n",
        "        # If the movie has an estimated budget\n",
        "        if budget_tag:\n",
        "            # Retrieve the movie's budget for our data\n",
        "            budget = budget_tag.find('span', {'class': 'ipc-metadata-list-item__list-content-item'}).text.strip()\n",
        "            import re\n",
        "            budget = float(''.join(re.findall(\"\\d+\", budget)))\n",
        "            return cat_budget(budget)\n",
        "\n",
        "    # Otherwise, budget/page isn't available\n",
        "        else: return BUDGET_NA\n",
        "    else: return HTML_NA"
      ]
    },
    {
      "cell_type": "markdown",
      "id": "bNnYSBQbJJ14",
      "metadata": {
        "id": "bNnYSBQbJJ14"
      },
      "source": [
        "### Trailers"
      ]
    },
    {
      "cell_type": "code",
      "execution_count": 9,
      "id": "z8G_TPdHJIXY",
      "metadata": {
        "id": "z8G_TPdHJIXY"
      },
      "outputs": [],
      "source": [
        "def find_trailer(parsed_html: BeautifulSoup) -> str:\n",
        "    \"\"\"\n",
        "    Finding trailer code adapted from\n",
        "    https://github.com/pavan412kalyan/imdb-movie-scraper/blob/main/downloaders/trailer_downloader/getTrailerByImdb.py#L39-L45\n",
        "    \n",
        "    From our movie's json, check if our movie has a trailer. If it does, return the trailer's embedURL. Otherwise,\n",
        "    return that the trailer has not found.\n",
        "    \n",
        "    Args\n",
        "        parsed_html (BeautifulSoup): The HTML page of the movie\n",
        "    \"\"\"\n",
        "    # Check if the movie has a trailer\n",
        "    try: \n",
        "        jsonData = parsed_html.find('script',{\"type\":\"application/ld+json\"})\n",
        "        jsonSourceObj=json.loads(jsonData.string)\n",
        "        # Return the trailer's URL\n",
        "        if TRAILER in jsonSourceObj:\n",
        "            return jsonSourceObj['trailer']['embedUrl'].split('/')[-1]\n",
        "    # Otherwise, no trailer to be found\n",
        "        else: return TRAILER_NA\n",
        "    except: return TRAILER_NA\n",
        "\n",
        "def scrapeVidPage(parsed_html: BeautifulSoup) -> str:\n",
        "    \"\"\"\n",
        "    scrapeVidPage function code adapted from\n",
        "    https://github.com/pavan412kalyan/imdb-movie-scraper/blob/main/downloaders/trailer_downloader/getTrailerByImdb.py#L77-L92\n",
        "    \n",
        "    Find the trailer in <parsed_html> in its json. Once found, retrieve the video's playback URL from the json object.\n",
        "    \n",
        "    Args:\n",
        "        parsed_html (BeautifulSoup): The HTML page of the movie\n",
        "        \n",
        "    Returns:\n",
        "        str: The link to the first trailer of the movie.\n",
        "    \"\"\"\n",
        "    script = parsed_html.find(\"script\", {'type': 'application/json'})\n",
        "    json_object = json.loads(script.string)\n",
        "    videos = json_object[\"props\"][\"pageProps\"][\"videoPlaybackData\"][\"video\"][\"playbackURLs\"]\n",
        "\n",
        "    for video in videos[1:]:\n",
        "        video_link = video[\"url\"]\n",
        "        break\n",
        "\n",
        "    # Return the link to this trailer\n",
        "    return video_link\n",
        "\n",
        "def download(video_url: str, imdbID: str) -> None:\n",
        "    \"\"\"\n",
        "    Download function code adapted from\n",
        "    https://github.com/pavan412kalyan/imdb-movie-scraper/blob/main/downloaders/trailer_downloader/getTrailerByImdb.py#L48-L72\n",
        "    \n",
        "    Open the provided <video_url> and read its contents as an MP4 into the file \"<TRAILER_DIR> + <imdbID> + <MP4_END>\".\n",
        "    Read the trailer in block sizes of 8192. If we cannot read anymore (ie. ru.read is None), then we have downloaded\n",
        "    the entire trailer.\n",
        "    \n",
        "    Args:\n",
        "        video_url (str): The video URL to download the video from\n",
        "        imdbID (str): The movie's ID\n",
        "    \"\"\"\n",
        "    ru = urlopen(video_url)\n",
        "\n",
        "    # Create the trailer directory\n",
        "    create_multi_dir(TRAILER_VIDEO_DIR)\n",
        "    \n",
        "    print(f\"Downloading trailer for {imdbID}...\")\n",
        "\n",
        "    # Download the trailer\n",
        "    f = open(TRAILER_VIDEO_DIR + imdbID + MP4_END, 'wb')\n",
        "    file_size_dl = 0\n",
        "    block_sz = 8192\n",
        "    while True:\n",
        "        buffer = ru.read(block_sz)\n",
        "        if not buffer:\n",
        "            break\n",
        "\n",
        "        file_size_dl += len(buffer)\n",
        "        f.write(buffer)\n",
        "    f.close()\n",
        "\n",
        "def split_to_shots(imdbID: str) -> None:\n",
        "    \"\"\"\n",
        "    Split <imdbID>'s trailer into multiple shots, stored\n",
        "    in the directory bearing the same <imdbID>.\n",
        "\n",
        "    Args:\n",
        "        imdbID (str): The movie's ID on IMDB\n",
        "    \"\"\"\n",
        "    video = TRAILER_VIDEO_DIR + imdbID + MP4_END\n",
        "    shot_movie_dir = TRAILER_SHOT_DIR + imdbID\n",
        "\n",
        "    # Detect all shots in the video\n",
        "    shot_lst = detect(video, ContentDetector())\n",
        "\n",
        "    # Create appropriate directories\n",
        "    create_multi_dir(shot_movie_dir) # Movie's shot directory\n",
        "\n",
        "    # Split the trailer into shots, using ffmpeg\n",
        "    split_video_ffmpeg(video, shot_lst, output_dir=shot_movie_dir)\n",
        "\n",
        "def split_shots_to_rand_frames(imdbID: str, genre: str, budget: str) -> None:\n",
        "    \"\"\"\n",
        "    Split a movie's trailer (with ID <imdbID>) shots into multiple frames,\n",
        "    where each frame is one random location in a unique shot. Ensure these\n",
        "    frames have the movie's ID, <genre>, and <budget> label for\n",
        "    organizational purposes.\n",
        "    \n",
        "    Args:\n",
        "        imdbID: (str): The movie ID of the movie trailer\n",
        "        genre: (str): The genre of the movie\n",
        "        budget: (str): The budget label of the movie\n",
        "    \"\"\"\n",
        "    def write_frame(train_num: int, valid_num: int, test_num: int,\n",
        "                    cap: cv2.VideoCapture, new_file: str):\n",
        "        \"\"\"\n",
        "        Write a frame named <new_file> at any position in <cap>. Return\n",
        "        <train_num>, <valid_num>, or <test_num> after we create a frame\n",
        "        and decrement one of these counters.\n",
        "\n",
        "        Args:\n",
        "            train_num (int): Number of training frames left to write\n",
        "            valid_num (int): Number of validation frames left to write\n",
        "            test_num (int): Number of test frames left to write\n",
        "            cap (cv2.VideoCapture): A shot\n",
        "            new_file (str): The name of the new file to be written\n",
        "        \"\"\"\n",
        "\n",
        "        def create_frame(loc: str, num: int) -> int:\n",
        "            \"\"\"\n",
        "            Return the decremented <num> after creating a frame\n",
        "            at <loc>. \n",
        "\n",
        "            Args:\n",
        "                loc (str): The location where the frame should be written\n",
        "                num (int): The number of frames left to write\n",
        "\n",
        "            Returns:\n",
        "                int: Return the decrement of <num> by 1, if the\n",
        "                write operation of the frame is successful.\n",
        "            \"\"\"\n",
        "            # If writing frame is successful, add it to the movie's list of frames\n",
        "            if success:\n",
        "                cv2.imwrite(loc, img)\n",
        "                num -= 1\n",
        "            else: print(FRAME_NA)\n",
        "            return num\n",
        "        \n",
        "        # Get total # of frames\n",
        "        if not cap.isOpened(): print(VIDEO_OPEN_NA)\n",
        "        frame_num = int(cap.get(cv2.CAP_PROP_FRAME_COUNT))\n",
        "        if frame_num == 0: print(FRAME_COUNT_NA)\n",
        "        \n",
        "        # Get random frame\n",
        "        rand_frame = np.random.randint(0, high=frame_num)\n",
        "        cap.set(cv2.CAP_PROP_POS_FRAMES, rand_frame)\n",
        "        success, img = cap.read()\n",
        "\n",
        "        # Create the frame in the appropriate directory, based on our current\n",
        "        # <train_num>, <valid_num>, and <test_num>.\n",
        "        \n",
        "        label = genre + \"_\" + budget\n",
        "        file_label = \"/\" + label + \"_\" + new_file\n",
        "\n",
        "        combo_label = label + file_label\n",
        "        \n",
        "        create_multi_dir(TRAIN_COMBO_DIR + label)\n",
        "        create_multi_dir(VALID_COMBO_DIR + label)\n",
        "        create_multi_dir(TEST_COMBO_DIR + label)\n",
        "\n",
        "        if (train_num > 0): \n",
        "            train_num = create_frame(TRAIN_COMBO_DIR + combo_label, train_num)\n",
        "        elif (valid_num > 0): \n",
        "            valid_num = create_frame(VALID_COMBO_DIR + combo_label, valid_num)\n",
        "        elif (test_num > 0): \n",
        "            test_num = create_frame(TEST_COMBO_DIR + combo_label, test_num)\n",
        "                \n",
        "        return train_num, valid_num, test_num\n",
        "\n",
        "    shot_movie_dir = TRAILER_SHOT_DIR + imdbID\n",
        "\n",
        "    # Go through all shots\n",
        "    shot_num = 0 # Total number of shots\n",
        "    for filenme in os.listdir(shot_movie_dir):\n",
        "        if (filenme.endswith(MP4_END)): shot_num += 1\n",
        "\n",
        "    # Number of shots per set\n",
        "    train_num = round(shot_num * TRAIN_RATIO)\n",
        "    test_num = round((shot_num - train_num) // 2)\n",
        "    valid_num = shot_num - train_num - test_num\n",
        "\n",
        "    # Iterate over the movie's shots\n",
        "    for filenme in os.listdir(shot_movie_dir):\n",
        "        # Training, validation, and test frames will be of the form\n",
        "        # <genre><budget>_<movie_id>.jpg\n",
        "        new_file = filenme.removesuffix(MP4_END) + JPG_END\n",
        "\n",
        "        # If the file's a shot\n",
        "        if (filenme.endswith(MP4_END)):\n",
        "            cap = cv2.VideoCapture(shot_movie_dir + \"/\" + filenme)\n",
        "\n",
        "            # Write a random frame from the shot\n",
        "            train_num, valid_num, test_num = write_frame(train_num, valid_num, test_num,\n",
        "                                                         cap, new_file)\n"
      ]
    },
    {
      "cell_type": "markdown",
      "id": "57a30ab4",
      "metadata": {
        "id": "57a30ab4"
      },
      "source": [
        "### Parse a movie\n",
        "\n",
        "Download a movie's trailer and note its budget tag (based on its estimated budget).\n",
        "If a movie's page doesn't have any of these elements, skip it."
      ]
    },
    {
      "cell_type": "code",
      "execution_count": 10,
      "id": "y03YO4b3ADrl",
      "metadata": {
        "id": "y03YO4b3ADrl"
      },
      "outputs": [],
      "source": [
        "\n",
        "def parse_movie(movie_tag: BeautifulSoup, genre: str) -> None:\n",
        "    \"\"\"\n",
        "    Extract a movie's estimated budget and trailer from\n",
        "    its IMDB page, located at <movie_tag>.\n",
        "    \n",
        "    Args\n",
        "        movie_tag (BeautifulSoup): The movie's IMDB page\n",
        "        genre (str): The genre of the movie we are parsing\n",
        "    \"\"\"\n",
        "    # Split the name to remove the number\n",
        "    href_full = movie_tag.find('a')['href']\n",
        "    movie_id = href_full.split('?')[0]\n",
        "    url = IMDB_HOST + movie_id\n",
        "    \n",
        "    # Process movie id\n",
        "    movie_id = movie_id.removeprefix(TITLE_DST).strip('/')\n",
        "    if movie_id in movies_collected:\n",
        "        print(\"Movie already collected, skipping\")\n",
        "        return\n",
        "    \n",
        "    # Get movie page html\n",
        "    movie_page_html = fetch_movie_page(url)\n",
        "\n",
        "    # Process budget\n",
        "    budget = find_budget(movie_page_html)\n",
        "\n",
        "    # Process trailer\n",
        "    trailer = find_trailer(movie_page_html)\n",
        "\n",
        "    # For the sake of speeding up runtimes and to keep our training data consistent, \n",
        "    # we only consider movies with a valid budget and trailer.\n",
        "    if trailer != TRAILER_NA and budget != BUDGET_NA:\n",
        "        # Get the trailer page\n",
        "        trailer_pg = fetch_movie_page(TRAILER_URL + trailer)\n",
        "        \n",
        "        # If the trailer page exists\n",
        "        if (trailer_pg is not None):\n",
        "            # Get the video URL of the trailer\n",
        "            vid_url = scrapeVidPage(trailer_pg)\n",
        "\n",
        "            # Download the trailer named after the movie's ID in the trailer directory\n",
        "            # Don't download if it already exists\n",
        "            if (not file_exists(TRAILER_VIDEO_DIR + movie_id + MP4_END)):\n",
        "                download(vid_url, movie_id)\n",
        "            else:\n",
        "                print(f\"Trailer for {movie_id} already exists, skipping download.\")\n",
        "            \n",
        "            if (not dir_exists(TRAILER_SHOT_DIR + movie_id)):\n",
        "                split_to_shots(movie_id) # Split the trailer into shots\n",
        "            else:\n",
        "                print(f\"Shots for {movie_id} already made, skipping shot splitting.\")\n",
        "\n",
        "            # Split the shots into frames\n",
        "            split_shots_to_rand_frames(movie_id, genre, budget)\n",
        "\n",
        "        else: vid_url = TRAILER_NA\n",
        "    else: vid_url = TRAILER_NA\n",
        "    \n",
        "    # Keep track of movies that we've already collected\n",
        "    movies_collected.append(movie_id)"
      ]
    },
    {
      "cell_type": "code",
      "execution_count": 11,
      "id": "9b774b14",
      "metadata": {
        "id": "9b774b14"
      },
      "outputs": [],
      "source": [
        "def get_top_movies(doc: BeautifulSoup, genre: str) -> None:\n",
        "    \"\"\"\n",
        "    Parse all movies in <doc> with genre <genre>.\n",
        "\n",
        "    Args\n",
        "        doc (BeautifulSoup): The HTML page for movies of genre <genre>.\n",
        "        genre (str): The genre of movies we are collecting.\n",
        "    \"\"\"\n",
        "    # Obtain a list of movie tags from the html source code\n",
        "    movie_tags = doc.find_all('li', class_ = 'ipc-metadata-list-summary-item')\n",
        "\n",
        "    for movie_num, tag in enumerate(movie_tags):\n",
        "        print(f\"Processing movie {movie_num}\")\n",
        "        parse_movie(tag, genre)\n",
        "        print(SEP)"
      ]
    },
    {
      "cell_type": "code",
      "execution_count": 12,
      "id": "b267dd59",
      "metadata": {
        "id": "b267dd59"
      },
      "outputs": [],
      "source": [
        "def get_n_pages(genre: str, n: int) -> None:\n",
        "    \"\"\"\n",
        "    Prereq: 0 < n <= 5\n",
        "    \n",
        "    Get <n> * 50 of IMDB's top movies with genre <genre>.\n",
        "    \n",
        "    Args\n",
        "        genre (str): The genre of movies to collect\n",
        "        n (int): How many movies we should consider in our data\n",
        "        collection process multiplied by 50.\n",
        "    \"\"\"\n",
        "    if genre == ALL:\n",
        "        for genre in GENRES:\n",
        "            get_top_movies(get_genre_nth_page(genre, n), genre)\n",
        "    else:\n",
        "        get_top_movies(get_genre_nth_page(genre, n), genre)"
      ]
    },
    {
      "cell_type": "markdown",
      "id": "0zB1YbSK2-SH",
      "metadata": {
        "id": "0zB1YbSK2-SH"
      },
      "source": [
        "## Extracting top movies from all genres in our genre list"
      ]
    },
    {
      "cell_type": "code",
      "execution_count": 13,
      "id": "146e538e",
      "metadata": {
        "id": "146e538e"
      },
      "outputs": [],
      "source": [
        "# get_n_pages(ALL, 1) # Takes > 4 hrs for n == 5"
      ]
    },
    {
      "cell_type": "markdown",
      "id": "Zqvp4DreZY6n",
      "metadata": {
        "id": "Zqvp4DreZY6n"
      },
      "source": [
        "# Movie Genre and Budget Predictions"
      ]
    },
    {
      "cell_type": "markdown",
      "id": "5tZNwTSChnd_",
      "metadata": {
        "id": "5tZNwTSChnd_"
      },
      "source": [
        "## Setup"
      ]
    },
    {
      "cell_type": "code",
      "execution_count": 14,
      "id": "0fsyudVGREOy",
      "metadata": {
        "id": "0fsyudVGREOy"
      },
      "outputs": [
        {
          "name": "stdout",
          "output_type": "stream",
          "text": [
            "Train on gpu: True\n",
            "1 gpus detected.\n"
          ]
        }
      ],
      "source": [
        "# Whether to train on a gpu\n",
        "train_on_gpu = cuda.is_available()\n",
        "print(f'Train on gpu: {train_on_gpu}')\n",
        "\n",
        "# Number of gpus\n",
        "multi_gpu = False\n",
        "if train_on_gpu:\n",
        "    gpu_count = cuda.device_count()\n",
        "    print(f'{gpu_count} gpus detected.')\n",
        "    if gpu_count > 1: multi_gpu = True"
      ]
    },
    {
      "cell_type": "markdown",
      "id": "32UPRTRWh2rX",
      "metadata": {
        "id": "32UPRTRWh2rX"
      },
      "source": [
        "### Generic ML Training Functions"
      ]
    },
    {
      "cell_type": "markdown",
      "id": "14ec640b",
      "metadata": {},
      "source": [
        "#### Counting Functions"
      ]
    },
    {
      "cell_type": "code",
      "execution_count": 15,
      "id": "cbf9a32e",
      "metadata": {},
      "outputs": [],
      "source": [
        "def count_frames() -> None:\n",
        "    \"\"\"\n",
        "    Count the number of frames in our training, validation, and test directories.\n",
        "    \"\"\"\n",
        "    print(f\"Training extracted frames num: {(count_files(TRAIN_COMBO_DIR, JPG_END))}\")\n",
        "    print(f\"Validation extracted frames num: {count_files(VALID_COMBO_DIR, JPG_END)}\")\n",
        "    print(f\"Test extracted frames num: {count_files(TEST_COMBO_DIR, JPG_END)}\")\n",
        "\n",
        "def count_files(dir: str, ending: str) -> int:\n",
        "    \"\"\"\n",
        "    Return the number of files ending with <ending> in <dir> recursively.\n",
        "    \n",
        "    Args:\n",
        "        dir (str): The directory to search for files in.\n",
        "        ending (str): The file extension that counted files must end in.\n",
        "        \n",
        "    Returns:\n",
        "        int: The count of files in <dir> that end in <ending>.\n",
        "    \"\"\"\n",
        "    return len([file for _, _, files in os.walk(dir) \n",
        "                     for file in files if file.endswith(ending)])"
      ]
    },
    {
      "cell_type": "markdown",
      "id": "ea26c938",
      "metadata": {},
      "source": [
        "#### Dataset Preparation for Training"
      ]
    },
    {
      "cell_type": "code",
      "execution_count": 16,
      "id": "e241bead",
      "metadata": {},
      "outputs": [],
      "source": [
        "def equalize_datasets() -> None:\n",
        "    \"\"\"\n",
        "    Ensure all of our training, validation, and test datasets' class frames\n",
        "    are all divisible by SEQ_NUM.\n",
        "    \"\"\"\n",
        "    def equalize_dir(path: str) -> None:\n",
        "        \"\"\"\n",
        "        Ensure all directories at <path> are divisible by SEQ_NUM.\n",
        "        \n",
        "        Args\n",
        "            path (str): The path to check all frames\n",
        "        \"\"\"\n",
        "        for class_label in os.listdir(path):\n",
        "            label = \"/\" + class_label\n",
        "            size = count_files(path + label, JPG_END) # Class files\n",
        "            to_remove = size % SEQ_NUM\n",
        "\n",
        "            # Remove random frames\n",
        "            for file in sample(os.listdir(path + label), to_remove):\n",
        "                os.remove(path + label + \"/\" + file)\n",
        "                \n",
        "        print(f\"Equalized {path} - All directories are divisible by {SEQ_NUM} frames.\")\n",
        "        print(SEP)\n",
        "            \n",
        "    equalize_dir(TRAIN_COMBO_DIR)\n",
        "    equalize_dir(VALID_COMBO_DIR)\n",
        "    equalize_dir(TEST_COMBO_DIR)\n",
        "    \n",
        "def class_weights() -> torch.Tensor:\n",
        "    \"\"\"\n",
        "    Return the weight for every class in our custom model as a tensor with\n",
        "    dimension (C, ), where C is the number of our classes.\n",
        "    \n",
        "    A class weight is determined by the class with the highest frame count\n",
        "    in our training, validation, and test directory frames divided by the\n",
        "    a class's frame count in these directories.\n",
        "    \n",
        "    Returns:\n",
        "        torch.Tensor: The weights for each class as a tensor with dimensions\n",
        "        (C, ), where C is the number of our classes.\n",
        "    \"\"\"\n",
        "    max_frames = float('-inf')\n",
        "    sizes = []\n",
        "    for class_label in os.listdir(TRAIN_COMBO_DIR):\n",
        "        label_dir = \"/\" + class_label\n",
        "        size = (count_files(TRAIN_COMBO_DIR + label_dir, JPG_END) + \n",
        "                count_files(VALID_COMBO_DIR + label_dir, JPG_END) + \n",
        "                count_files(TEST_COMBO_DIR + label_dir, JPG_END))\n",
        "        max_frames = max(max_frames, size)\n",
        "        sizes.append(size)\n",
        "    return torch.Tensor([max_frames / sizes[i] for i in range(COMBO_NUM)])"
      ]
    },
    {
      "cell_type": "code",
      "execution_count": 34,
      "id": "646cae4c",
      "metadata": {},
      "outputs": [
        {
          "name": "stdout",
          "output_type": "stream",
          "text": [
            "Training extracted frames num: 80077\n",
            "Validation extracted frames num: 17596\n",
            "Test extracted frames num: 16713\n",
            "----------------------------------------------------------------\n",
            "Equalized trailers/frames/combined/training/ - All directories are divisible by 12 frames.\n",
            "----------------------------------------------------------------\n",
            "Equalized trailers/frames/combined/validation/ - All directories are divisible by 12 frames.\n",
            "----------------------------------------------------------------\n",
            "Equalized trailers/frames/combined/test/ - All directories are divisible by 12 frames.\n",
            "----------------------------------------------------------------\n"
          ]
        }
      ],
      "source": [
        "count_frames()       # Original Frame Counts\n",
        "print(SEP)\n",
        "equalize_datasets()  # Ensure datasets are divisible by SEQ_NUM"
      ]
    },
    {
      "cell_type": "markdown",
      "id": "f5f6986b",
      "metadata": {},
      "source": [
        "#### Train Function (adapted from Tutorial 6)"
      ]
    },
    {
      "cell_type": "code",
      "execution_count": 18,
      "id": "fb9977cd",
      "metadata": {},
      "outputs": [],
      "source": [
        "def get_acc_log(output: torch.Tensor, target: torch.Tensor) -> torch.Tensor:\n",
        "    \"\"\"\n",
        "    Compute accuracy by comparing the maximum element in <output> to <target>.\n",
        "    \n",
        "    Args:\n",
        "        output (torch.Tensor): The outputted probabilites of our model.\n",
        "        target (torch.Tensor): The ground truth of our set of frames.\n",
        "        \n",
        "    Returns:\n",
        "        torch.Tensor: The average result of our model's predictions, when compared\n",
        "        to our ground truth.\n",
        "    \"\"\"\n",
        "\t# Calculate accuracy by finding max log probability\n",
        "    _, pred = torch.max(output, dim=1)\n",
        "    correct_tensor = pred.eq(target.data.view_as(pred))\n",
        "    # Need to convert correct tensor from int to float to average\n",
        "    return torch.mean(correct_tensor.type(torch.FloatTensor))"
      ]
    },
    {
      "cell_type": "code",
      "execution_count": 19,
      "id": "76da6f67",
      "metadata": {},
      "outputs": [],
      "source": [
        "def train(model,\n",
        "          criterion,\n",
        "          optimizer,\n",
        "          train_loader,\n",
        "          valid_loader,\n",
        "          save_file_name,\n",
        "          max_epochs_stop=3,\n",
        "          n_epochs=20,\n",
        "          print_every=2):\n",
        "    \"\"\"\n",
        "    Train a PyTorch Model\n",
        "\n",
        "    Params\n",
        "    --------\n",
        "        model (PyTorch model): cnn to train\n",
        "        criterion (PyTorch loss): objective to minimize\n",
        "        optimizer (PyTorch optimizier): optimizer to compute gradients of model parameters\n",
        "        train_loader (PyTorch dataloader): training dataloader to iterate through\n",
        "        valid_loader (PyTorch dataloader): validation dataloader used for early stopping\n",
        "        save_file_name (str ending in '.pt'): file path to save the model state dict\n",
        "        max_epochs_stop (int): maximum number of epochs with no improvement in validation loss for early stopping\n",
        "        n_epochs (int): maximum number of training epochs\n",
        "        print_every (int): frequency of epochs to print training stats\n",
        "\n",
        "    Returns\n",
        "    --------\n",
        "        model (PyTorch model): trained cnn with best weights\n",
        "        history (DataFrame): history of train and validation loss and accuracy\n",
        "    \"\"\"\n",
        "\n",
        "    # Early stopping intialization\n",
        "    epochs_no_improve = 0\n",
        "    valid_loss_min = np.Inf\n",
        "\n",
        "    valid_best_acc = 0\n",
        "    history = []\n",
        "\n",
        "    # Number of epochs already trained (if using loaded in model weights)\n",
        "    print(f\"Batch Size: {BATCH_SIZE}\")\n",
        "    try:\n",
        "        print(f'Model has been trained for: {model.epochs} epochs.\\n')\n",
        "    except:\n",
        "        model.epochs = 0\n",
        "        print(f'Starting Training from Scratch.\\n')\n",
        "\n",
        "    overall_start = timer()\n",
        "\n",
        "    # Main loop\n",
        "    for epoch in range(n_epochs):\n",
        "\n",
        "        # keep track of training and validation loss each epoch\n",
        "        train_loss, valid_loss = 0.0, 0.0\n",
        "        train_acc, valid_acc = 0, 0\n",
        "\n",
        "        # Set to training\n",
        "        model.train()\n",
        "        start = timer()\n",
        "\n",
        "        # Training loop\n",
        "        for ii, (data, target) in enumerate(train_loader):\n",
        "            \n",
        "            # Tensors to gpu\n",
        "            if train_on_gpu:\n",
        "                data, target = data.cuda(), target.cuda()\n",
        "                \n",
        "            # Clear gradients\n",
        "            optimizer.zero_grad()\n",
        "\n",
        "            # Predicted outputs are log probabilities\n",
        "            output = model(data)\n",
        "\n",
        "            # Loss and backpropagation of gradients\n",
        "            loss = criterion(output, target)\n",
        "            loss.backward()\n",
        "\n",
        "            # Update the parameters\n",
        "            optimizer.step()\n",
        "\n",
        "            # Track train loss by multiplying average loss by number of examples in batch\n",
        "            train_loss += loss.item() * data.size(0)\n",
        "\n",
        "            # Calculate accuracy by finding max log probability\n",
        "            accuracy = get_acc_log(output, target)\n",
        "            train_acc += accuracy.item() * data.size(0)\n",
        "\n",
        "            # Track training progress\n",
        "            print(\n",
        "                f'Epoch: {epoch}\\t{100 * (ii + 1) / len(train_loader):.2f}% complete. {timer() - start:.2f} seconds elapsed in epoch.',\n",
        "                end='\\r')\n",
        "\n",
        "        # After training loops ends, start validation\n",
        "        else:\n",
        "            model.epochs += 1\n",
        "            train_load_size = len(train_loader.dataset)\n",
        "            valid_load_size = len(valid_loader.dataset)\n",
        "\n",
        "            # Don't need to keep track of gradients\n",
        "            with torch.no_grad():\n",
        "                # Set to evaluation mode\n",
        "                model.eval()\n",
        "\n",
        "                # Validation loop\n",
        "                for data, target in valid_loader:\n",
        "                    # Tensors to gpu\n",
        "                    if train_on_gpu:\n",
        "                        data, target = data.cuda(), target.cuda()\n",
        "\n",
        "                    # Forward pass\n",
        "                    output = model(data)\n",
        "\n",
        "                    # Validation loss\n",
        "                    loss = criterion(output, target)\n",
        "                    # Multiply average loss times the number of examples in batch\n",
        "                    valid_loss += loss.item() * data.size(0)\n",
        "\n",
        "                    # Calculate validation accuracy\n",
        "                    accuracy = get_acc_log(output, target)\n",
        "\n",
        "                    # Multiply average accuracy times the number of examples\n",
        "                    valid_acc += accuracy.item() * data.size(0)\n",
        "\n",
        "                # Calculate average losses\n",
        "                train_loss = train_loss / train_load_size\n",
        "                valid_loss = valid_loss / valid_load_size\n",
        "\n",
        "                # Calculate average accuracy\n",
        "                train_acc = train_acc / train_load_size\n",
        "                valid_acc = valid_acc / valid_load_size\n",
        "\n",
        "                history.append([train_loss, valid_loss, train_acc, valid_acc])\n",
        "\n",
        "                # Print training and validation results\n",
        "                if (epoch + 1) % print_every == 0:\n",
        "                    print(\n",
        "                        f'\\nEpoch: {epoch} \\tTraining Loss: {train_loss:.4f} \\tValidation Loss: {valid_loss:.4f}'\n",
        "                    )\n",
        "                    print(\n",
        "                        f'\\t\\tTraining Accuracy: {100 * train_acc:.2f}%\\t Validation Accuracy: {100 * valid_acc:.2f}%'\n",
        "                    )\n",
        "\n",
        "                # Save the model if validation loss decreases\n",
        "                if valid_loss < valid_loss_min:\n",
        "                    # Save model\n",
        "                    torch.save(model.state_dict(), save_file_name)\n",
        "                    # Track improvement\n",
        "                    epochs_no_improve = 0\n",
        "                    valid_loss_min = valid_loss\n",
        "                    valid_best_acc = valid_acc\n",
        "                    best_epoch = epoch\n",
        "\n",
        "                # Otherwise increment count of epochs with no improvement\n",
        "                else:\n",
        "                    epochs_no_improve += 1\n",
        "                    # Trigger early stopping\n",
        "                    if epochs_no_improve >= max_epochs_stop:\n",
        "                        print(\n",
        "                            f'\\nEarly Stopping! Total epochs: {epoch}. Best epoch: {best_epoch} with loss: {valid_loss_min:.2f} and acc: {100 * valid_best_acc:.2f}%'\n",
        "                        )\n",
        "                        total_time = timer() - overall_start\n",
        "                        print(\n",
        "                            f'{total_time:.2f} total seconds elapsed. {total_time / (epoch+1):.2f} seconds per epoch.'\n",
        "                        )\n",
        "\n",
        "                        # Load the best state dict\n",
        "                        model.load_state_dict(torch.load(save_file_name))\n",
        "                        # Attach the optimizer\n",
        "                        model.optimizer = optimizer\n",
        "\n",
        "                        # Format history\n",
        "                        history = pd.DataFrame(\n",
        "                            history,\n",
        "                            columns=[TRAIN_LOSS, VALID_LOSS, TRAIN_ACC, VALID_ACC])\n",
        "                        return model, history\n",
        "\n",
        "    # Attach the optimizer\n",
        "    model.optimizer = optimizer\n",
        "    # Record overall time and print out stats\n",
        "    total_time = timer() - overall_start\n",
        "    print(\n",
        "        f'\\nBest epoch: {best_epoch} with loss: {valid_loss_min:.2f} and acc: {100 * valid_best_acc:.2f}%'\n",
        "    )\n",
        "    print(\n",
        "        f'{total_time:.2f} total seconds elapsed. {total_time / (epoch):.2f} seconds per epoch.'\n",
        "    )\n",
        "    # Format history\n",
        "    history = pd.DataFrame(\n",
        "        history,\n",
        "        columns=[TRAIN_LOSS, VALID_LOSS, TRAIN_ACC, VALID_ACC])\n",
        "    return model, history"
      ]
    },
    {
      "cell_type": "code",
      "execution_count": 20,
      "id": "a833d350",
      "metadata": {},
      "outputs": [],
      "source": [
        "def begin_training(model: nn.Module, datloads: Dict[str, DataLoader], save_file_name: str):\n",
        "    \"\"\"\n",
        "    Set up <model> for training, using NLLLoss and an Adam optimizer. \n",
        "    The model will use <datloads> as its training data and\n",
        "    will save its state in the file <save_file_name>.\n",
        "    \n",
        "    Args:\n",
        "        model (nn.Module): Our custom model.\n",
        "        datloads (Dict[str, Dataloader]): Where our data loaders for our training, validation,\n",
        "        and test sets are stored.\n",
        "        save_file_name (str): Where to save the state of our model after each epoch.\n",
        "        \n",
        "    Returns\n",
        "        model (PyTorch model): trained cnn with best weights\n",
        "        history (DataFrame): history of train and validation loss and accuracy\n",
        "    \"\"\"\n",
        "    # Set criterion and optimizer\n",
        "    weights = class_weights()\n",
        "    print(f\"Class weights: {weights}\")\n",
        "\n",
        "    # Put on the GPU if available\n",
        "    if train_on_gpu:\n",
        "        print(\"Training on GPU\")\n",
        "        weights = weights.to(CUDA)\n",
        "        model = model.to(CUDA)\n",
        "\n",
        "    criterion = nn.NLLLoss(weight=weights)\n",
        "    optimizer = optim.Adam(model.parameters(), lr=1e-4)\n",
        "    \n",
        "    return train(model, criterion, optimizer, datloads[TRAIN], datloads[VALID],\n",
        "                 save_file_name=save_file_name, max_epochs_stop=EARLY_STOP, n_epochs=NUM_EPOCHS,\n",
        "                 print_every=1)"
      ]
    },
    {
      "cell_type": "markdown",
      "id": "24c83442",
      "metadata": {},
      "source": [
        "#### Model Metrics"
      ]
    },
    {
      "cell_type": "code",
      "execution_count": 21,
      "id": "2045e759",
      "metadata": {},
      "outputs": [],
      "source": [
        "def show_metrics(hist: pd.DataFrame, loss_title=\"Training and Validation Losses\",\n",
        "                 acc_title=\"Training and Validation Accuracy\") -> None:\n",
        "    \"\"\"\n",
        "    Display the loss and accuracy of our model during training and validation, given\n",
        "    the model's <hist>. Display these plots with the titles <loss_title> and <acc_title>\n",
        "    respectively.\n",
        "    \"\"\"\n",
        "    # Loss plot\n",
        "    plt.figure(figsize=(8, 6))\n",
        "    for c in [TRAIN_LOSS, VALID_LOSS]:\n",
        "        plt.plot(hist[c], label=c)\n",
        "    plt.legend()\n",
        "    plt.xlabel('Epoch')\n",
        "    plt.ylabel('Average Negative Log Likelihood')\n",
        "    plt.title(f\"{loss_title}\")\n",
        "\n",
        "    # Accuracy plot\n",
        "    plt.figure(figsize=(8, 6))\n",
        "    for c in [TRAIN_ACC, VALID_ACC]:\n",
        "        plt.plot(100 * hist[c], label=c)\n",
        "    plt.legend()\n",
        "    plt.xlabel('Epoch')\n",
        "    plt.ylabel('Average Accuracy')\n",
        "    plt.title(f'{acc_title}')"
      ]
    },
    {
      "cell_type": "markdown",
      "id": "324fd237",
      "metadata": {},
      "source": [
        "### Dataset Preparation"
      ]
    },
    {
      "cell_type": "markdown",
      "id": "cdf820bb",
      "metadata": {},
      "source": [
        "#### Dataset Augmentation/Transformations"
      ]
    },
    {
      "cell_type": "code",
      "execution_count": 22,
      "id": "ffb8f7ca",
      "metadata": {},
      "outputs": [],
      "source": [
        "# Image transformations\n",
        "IMAGE_TRANSFORMS = {\n",
        "    # Train uses data augmentation\n",
        "    TRAIN:\n",
        "    v2.Compose([\n",
        "        v2.RandomResizedCrop(size=RESIZE_SIZE),\n",
        "        v2.CenterCrop(size=CENT_CROP_SIZE),\n",
        "        v2.ToImage(),\n",
        "        v2.ToDtype(torch.float32, scale=True),\n",
        "        v2.Normalize(mean=NORM_MEAN, std=NORM_STD)  # Imagenet standards\n",
        "    ]),\n",
        "    VALID:\n",
        "    v2.Compose([\n",
        "        v2.Resize(size=RESIZE_SIZE),\n",
        "        v2.CenterCrop(size=CENT_CROP_SIZE),\n",
        "        v2.ToImage(),\n",
        "        v2.ToDtype(torch.float32, scale=True),\n",
        "        v2.Normalize(mean=NORM_MEAN, std=NORM_STD)\n",
        "    ]),\n",
        "    TEST:\n",
        "    v2.Compose([\n",
        "        v2.Resize(size=RESIZE_SIZE),\n",
        "        v2.CenterCrop(size=CENT_CROP_SIZE),\n",
        "        v2.ToImage(),\n",
        "        v2.ToDtype(torch.float32, scale=True),\n",
        "        v2.Normalize(mean=NORM_MEAN, std=NORM_STD)\n",
        "    ]),\n",
        "}"
      ]
    },
    {
      "cell_type": "markdown",
      "id": "6b727eed",
      "metadata": {},
      "source": [
        "#### Image Sequence Class"
      ]
    },
    {
      "cell_type": "code",
      "execution_count": 23,
      "id": "51b1a254",
      "metadata": {},
      "outputs": [],
      "source": [
        "class ImageSeqDataset(torch.utils.data.Dataset):\n",
        "    def __init__(self, root, transform=None, sequence_length=SEQ_NUM):\n",
        "        self.transform = transform\n",
        "        self.sequence_length = sequence_length\n",
        "        self.image_folder = datasets.ImageFolder(root=root)\n",
        "\n",
        "    def __len__(self) -> int:\n",
        "        return len(self.image_folder) - self.sequence_length + 1\n",
        "\n",
        "    def __getitem__(self, idx: int):\n",
        "        images = []\n",
        "        for i in range(idx, idx + self.sequence_length):\n",
        "            # If we can make an image sequence of len SEQ_NUM\n",
        "            if (i < len(self.image_folder.imgs)):\n",
        "                image_path = self.image_folder.imgs[i][0]\n",
        "                image = Image.open(image_path).convert(RGB)\n",
        "\n",
        "                # Apply transformations to the given image\n",
        "                if self.transform: image = self.transform(image)\n",
        "                images.append(image) # Add to our image sequence\n",
        "            else: # If not enough for a sequence\n",
        "                break\n",
        "\n",
        "        sequence = torch.stack(images)\n",
        "        label = self.image_folder[idx][1] # All images in seq belong to the same label\n",
        "        return sequence, label"
      ]
    },
    {
      "cell_type": "code",
      "execution_count": 24,
      "id": "f8a5eace",
      "metadata": {},
      "outputs": [],
      "source": [
        "def collate_fn_rnn(batch):\n",
        "    \"\"\"\n",
        "    Taken from https://medium.com/howtoai/video-classification-with-cnn-rnn-and-pytorch-abe2f9ee031.\n",
        "    \n",
        "    Return the sequences of images and their corresponding ground truths as tensors, given\n",
        "    our <batch>.\n",
        "    \"\"\"\n",
        "    imgs_batch, label_batch = list(zip(*batch))\n",
        "    imgs_batch = [imgs for imgs in imgs_batch if len(imgs)>0]\n",
        "    label_batch = [torch.tensor(l) for l, imgs in zip(label_batch, imgs_batch) if len(imgs)>0]\n",
        "    imgs_tensor = torch.stack(imgs_batch)\n",
        "    labels_tensor = torch.stack(label_batch)\n",
        "    return imgs_tensor, labels_tensor"
      ]
    },
    {
      "cell_type": "markdown",
      "id": "6e704141",
      "metadata": {},
      "source": [
        "#### Get Datasets and Loaders"
      ]
    },
    {
      "cell_type": "code",
      "execution_count": 25,
      "id": "0657078d",
      "metadata": {},
      "outputs": [],
      "source": [
        "def get_data_and_loaders(train_dir: str, valid_dir: str, test_dir: str):\n",
        "    \"\"\"\n",
        "    Load our training, validation, and test frames from <train_dir>, <valid_dir>, and <test_dir>.\n",
        "    \n",
        "    Args:\n",
        "        train_dir (str): Where our training frames are located.\n",
        "        valid_dir (str): Where our validation frames are located.\n",
        "        test_dir (str): Where our test frames are located.\n",
        "    \"\"\"\n",
        "    # Datasets from each folder\n",
        "    dat = {\n",
        "        TRAIN: ImageSeqDataset(root=train_dir, transform=IMAGE_TRANSFORMS[TRAIN]),\n",
        "        VALID: ImageSeqDataset(root=valid_dir, transform=IMAGE_TRANSFORMS[VALID]),\n",
        "        TEST: ImageSeqDataset(root=test_dir, transform=IMAGE_TRANSFORMS[TEST])\n",
        "    }\n",
        "    # Dataloader iterators\n",
        "    dat_loaders = {\n",
        "        TRAIN: DataLoader(dat[TRAIN], batch_size=BATCH_SIZE, shuffle=True, collate_fn=collate_fn_rnn),\n",
        "        VALID: DataLoader(dat[VALID], batch_size=BATCH_SIZE, shuffle=True, collate_fn=collate_fn_rnn),\n",
        "        TEST: DataLoader(dat[TEST], batch_size=BATCH_SIZE, shuffle=True, collate_fn=collate_fn_rnn)\n",
        "    }\n",
        "    return dat, dat_loaders"
      ]
    },
    {
      "cell_type": "markdown",
      "id": "250d4308",
      "metadata": {},
      "source": [
        "#### Lower Amount of Data Collected"
      ]
    },
    {
      "cell_type": "code",
      "execution_count": 26,
      "id": "f2dfe5b0",
      "metadata": {},
      "outputs": [],
      "source": [
        "def trim_dirs(k: int) -> None:\n",
        "    \"\"\"\n",
        "    Ensure our training, validation, and test datasets have less than or equal to the number of frames\n",
        "    as the <k>th smallest directory.\n",
        "        \n",
        "        Args\n",
        "            k (int): The kth shortest directory whose number of frames is what\n",
        "            all subdirectories should have (equal to or less than)  \n",
        "    \"\"\"\n",
        "    def trim_dir(path: str, k: int) -> None:\n",
        "        \"\"\"\n",
        "        Ensure all directories at <path> have less than or equal to the number of frames\n",
        "        as the <k>th smallest directory.\n",
        "        \n",
        "        Args\n",
        "            path (str): The path where all frames should be reduced\n",
        "            k (int): The kth shortest directory whose number of frames is what\n",
        "            all subdirectories should have (equal to or less than)  \n",
        "        \"\"\"\n",
        "        sizes = []\n",
        "        for class_label in os.listdir(path):\n",
        "            size = len([file for file in os.listdir(path + \"/\" + class_label) \n",
        "                        if file_exists(path + \"/\" + class_label + \"/\" + file)])\n",
        "            sizes.append(size)\n",
        "        \n",
        "        if (k > len(sizes)): k = len(sizes) - 1\n",
        "        min_frames = sorted(sizes)[k]\n",
        "        print(f\"{k}-th smallest in {path} (0-indexed): {min_frames}\")\n",
        "        \n",
        "        print(\"Trimming...\")\n",
        "        from random import sample\n",
        "        for i, class_label in enumerate(os.listdir(path)):\n",
        "            num_remove = sizes[i] - min_frames\n",
        "            if (num_remove > 0):\n",
        "                for file in sample(os.listdir(path + \"/\" + class_label), num_remove):\n",
        "                    os.remove(path + \"/\" + class_label + \"/\" + file)\n",
        "                \n",
        "        print(f\"Trimmed {path} - Directories now have {min_frames} frames or lower\")\n",
        "        print(SEP)\n",
        "            \n",
        "    trim_dir(TRAIN_COMBO_DIR, k)\n",
        "    trim_dir(VALID_COMBO_DIR, k)\n",
        "    trim_dir(TEST_COMBO_DIR, k)"
      ]
    },
    {
      "cell_type": "code",
      "execution_count": 27,
      "id": "d023f774",
      "metadata": {},
      "outputs": [],
      "source": [
        "trim_dirs(0) # 0-indexed"
      ]
    },
    {
      "cell_type": "markdown",
      "id": "9305804f",
      "metadata": {},
      "source": [
        "## Combination Model"
      ]
    },
    {
      "cell_type": "markdown",
      "id": "41c6e7c8",
      "metadata": {},
      "source": [
        "### Data Preparation: Combination"
      ]
    },
    {
      "cell_type": "markdown",
      "id": "93ff4934",
      "metadata": {},
      "source": [
        "#### View sizes of training, validation, and test folders"
      ]
    },
    {
      "cell_type": "code",
      "execution_count": 28,
      "id": "b19328ed",
      "metadata": {},
      "outputs": [
        {
          "name": "stdout",
          "output_type": "stream",
          "text": [
            "Training extracted frames num: 12600\n",
            "Validation extracted frames num: 2520\n",
            "Test extracted frames num: 2520\n"
          ]
        }
      ],
      "source": [
        "# Final Frame counts\n",
        "count_frames()"
      ]
    },
    {
      "cell_type": "markdown",
      "id": "b1543bechf63",
      "metadata": {
        "id": "b1543bechf63"
      },
      "source": [
        "#### Dataloaders"
      ]
    },
    {
      "cell_type": "code",
      "execution_count": 29,
      "id": "Mmz5yTGdhhPA",
      "metadata": {
        "id": "Mmz5yTGdhhPA"
      },
      "outputs": [],
      "source": [
        "# Datasets from each folder\n",
        "data, dataloaders = get_data_and_loaders(TRAIN_COMBO_DIR, VALID_COMBO_DIR, TEST_COMBO_DIR)"
      ]
    },
    {
      "cell_type": "markdown",
      "id": "cd29e386",
      "metadata": {},
      "source": [
        "### Custom Model Definition"
      ]
    },
    {
      "cell_type": "code",
      "execution_count": 30,
      "id": "e978abc6",
      "metadata": {},
      "outputs": [],
      "source": [
        "class effnetv2RNN(nn.Module):\n",
        "    \"\"\"\n",
        "    Basic process:\n",
        "        1. Process the input image into a pretrained CNN (EfficientNetv2, in this case)\n",
        "        2. Use the processed output (not processed into prediction yet) as input to our RNN\n",
        "        3. Repeat steps 1-2 for the rest of our image sequence until we are at the end of the image sequence\n",
        "            - This is so the RNN can learn from our past images\n",
        "        4. After passing the last image to our RNN, process its output into a prediction\n",
        "        using our layers.\n",
        "        \n",
        "    Adapted from: https://medium.com/howtoai/video-classification-with-cnn-rnn-and-pytorch-abe2f9ee031,\n",
        "    which uses ResNet18 and an RNN as its model architecture.\n",
        "    \"\"\"\n",
        "    def __init__(self, rnn_num_layers: int, rnn_hidden_size: int) -> None:\n",
        "        super(effnetv2RNN, self).__init__()\n",
        "        last_layer = 1\n",
        "        \n",
        "        ## Setup CNN\n",
        "        cnn = models.efficientnet_v2_s(weights=models.EfficientNet_V2_S_Weights.DEFAULT)\n",
        "        num_features = cnn.classifier[last_layer].in_features\n",
        "        \n",
        "        # Replace last layer of efficientnet_v2 w/ identity layer\n",
        "        cnn.classifier[last_layer] = nn.Identity()\n",
        "        \n",
        "        # Freeze early layers of CNN\n",
        "        for param in cnn.parameters():\n",
        "            param.requires_grad = False\n",
        "\n",
        "        self.cnn = cnn\n",
        "        \n",
        "        # Last layers for classification\n",
        "        self.dropout = nn.Dropout(DROP_P)\n",
        "        self.rnn = nn.LSTM(num_features, rnn_hidden_size, rnn_num_layers)\n",
        "        self.relu = nn.ReLU()\n",
        "        self.fc1 = nn.Linear(rnn_hidden_size, COMBO_NUM)\n",
        "        self.logmax = nn.LogSoftmax(dim=1)\n",
        "\n",
        "    def forward(self, x: torch.Tensor):\n",
        "        # x = (batch_size, sequence_length, channels, height, width)\n",
        "        _, ts, _, _, _ = x.shape\n",
        "        ii = 0\n",
        "        \n",
        "        # Get prediction for the first image in our sequence\n",
        "        y = self.cnn((x[:,ii]))\n",
        "        \n",
        "        # 2D => 3D tensor and pass it in our RNN\n",
        "        # (hn, cn) => (hidden state, cell state)\n",
        "        _, (hn, cn) = self.rnn(y.unsqueeze(1))\n",
        "        \n",
        "        # Pass the rest of our images into our RNN, \n",
        "        # leveraging RNN's memory \n",
        "        for ii in range(1, ts):\n",
        "            y = self.cnn((x[:,ii]))\n",
        "            out, (hn, cn) = self.rnn(y.unsqueeze(1), (hn, cn))\n",
        "\n",
        "        out = self.relu(out[:, -1]) # ReLU layer\n",
        "        out = self.dropout(out)     # Dropout layer\n",
        "        out = self.fc1(out)         # hidden_size => 30 classes\n",
        "        out = self.logmax(out)      # Turn to probabilities\n",
        "        return out"
      ]
    },
    {
      "cell_type": "code",
      "execution_count": 31,
      "id": "f386bc40",
      "metadata": {},
      "outputs": [],
      "source": [
        "def get_model(save_file_name=\"\") -> nn.Module:\n",
        "    \"\"\"\n",
        "    Return the custom model \"effnetv2RNN\". If the model has an existing save file\n",
        "    with the name <save_file_name>, load this model's state from that file.\n",
        "    \n",
        "    Args\"\n",
        "        save_file_name (str): Where to load our model's state (if available)\n",
        "        \n",
        "    Returns:\n",
        "        nn.Module: Our custom model\n",
        "    \"\"\"\n",
        "    # Get our custom model\n",
        "    model = effnetv2RNN(1, 256)\n",
        "    if (file_exists(save_file_name)):\n",
        "        model.load_state_dict(torch.load(save_file_name))\n",
        "    return model"
      ]
    },
    {
      "cell_type": "markdown",
      "id": "02ce1f32",
      "metadata": {},
      "source": [
        "#### Train our model from scratch (Combination labels => 30 classes)"
      ]
    },
    {
      "cell_type": "code",
      "execution_count": 32,
      "id": "jxhmLkmzRTyy",
      "metadata": {
        "id": "jxhmLkmzRTyy"
      },
      "outputs": [],
      "source": [
        "# Get our custom model\n",
        "model = get_model(SAVE_FILE_EFFINETV2)\n",
        "\n",
        "# Begin training \n",
        "model, history = begin_training(model, dataloaders, SAVE_FILE_EFFINETV2)"
      ]
    },
    {
      "cell_type": "code",
      "execution_count": 589,
      "id": "fc9193d0",
      "metadata": {},
      "outputs": [],
      "source": [
        "# Save history to file\n",
        "history.to_csv(\"model_stats.csv\")"
      ]
    },
    {
      "cell_type": "markdown",
      "id": "7eUM2KpgRi3x",
      "metadata": {
        "id": "7eUM2KpgRi3x"
      },
      "source": [
        "#### Training Plots"
      ]
    },
    {
      "cell_type": "code",
      "execution_count": 590,
      "id": "f50kgf3jRlhR",
      "metadata": {
        "id": "f50kgf3jRlhR"
      },
      "outputs": [
        {
          "data": {
            "image/png": "[encoded data removed]",
            "text/plain": [
              "<Figure size 800x600 with 1 Axes>"
            ]
          },
          "metadata": {},
          "output_type": "display_data"
        },
        {
          "data": {
            "image/png": "[encoded data removed]",
            "text/plain": [
              "<Figure size 800x600 with 1 Axes>"
            ]
          },
          "metadata": {},
          "output_type": "display_data"
        }
      ],
      "source": [
        "show_metrics(history, loss_title=\"Training and Validation Losses\",\n",
        "             acc_title=\"Training and Validation Accuracy\")"
      ]
    },
    {
      "cell_type": "markdown",
      "id": "uLoITJDmRodj",
      "metadata": {
        "id": "uLoITJDmRodj"
      },
      "source": [
        "#### Evaluation (Test Data)"
      ]
    },
    {
      "cell_type": "code",
      "execution_count": 33,
      "id": "2d2d8bc6",
      "metadata": {},
      "outputs": [
        {
          "name": "stdout",
          "output_type": "stream",
          "text": [
            "Class weights: tensor([1., 1., 1., 1., 1., 1., 1., 1., 1., 1., 1., 1., 1., 1., 1., 1., 1., 1.,\n",
            "        1., 1., 1., 1., 1., 1., 1., 1., 1., 1., 1., 1.])\n",
            "Testing on GPU\n",
            "Test Loss: 3.07\t Test Accuracy: 13.43%\n",
            "276.28 total seconds elapsed.\n"
          ]
        },
        {
          "data": {
            "text/plain": [
              "(3.068778090193814, 0.13431646080072204)"
            ]
          },
          "execution_count": 33,
          "metadata": {},
          "output_type": "execute_result"
        }
      ],
      "source": [
        "def eval_test(model: nn.Module, test_loader: DataLoader):\n",
        "    \"\"\"\n",
        "    Evaluate <model> by loading the test set from <test_loader> and returning\n",
        "    <model>'s test loss and accuracy.\n",
        "    \n",
        "    Args:\n",
        "        model (nn.Module): Our custom model.\n",
        "        test_loader (DataLoader): The loader for our test data.\n",
        "    \"\"\"\n",
        "    weights = class_weights()\n",
        "    print(f\"Class weights: {weights}\")\n",
        "    if train_on_gpu:\n",
        "        print(\"Testing on GPU\")\n",
        "        weights = weights.to(CUDA)\n",
        "        model = model.to(CUDA)\n",
        "    criterion = nn.NLLLoss(weight=weights)\n",
        "\n",
        "    start = timer()\n",
        "    # keep track of test loss and accuracy\n",
        "    test_loss, test_acc = 0.0, 0\n",
        "\n",
        "    # Test loop\n",
        "    with torch.no_grad():\n",
        "        model.eval()\n",
        "        \n",
        "        for ii, (data, target) in enumerate(test_loader):\n",
        "            # Tensors to gpu\n",
        "            if train_on_gpu: \n",
        "                data, target = data.cuda(), target.cuda()\n",
        "                \n",
        "\t\t\t# Forward pass\n",
        "            output = model(data)\n",
        "                \n",
        "            # Test loss\n",
        "            loss = criterion(output, target)\n",
        "\n",
        "            # Track train loss by multiplying average loss by number of examples in batch\n",
        "            test_loss += loss.item() * data.size(0)\n",
        "\n",
        "            # Calculate accuracy by finding max log probability\n",
        "            accuracy = get_acc_log(output, target)\n",
        "            test_acc += accuracy.item() * data.size(0)\n",
        "\n",
        "            print(\n",
        "            f'{100 * (ii + 1) / len(test_loader):.2f}% complete. {timer() - start:.2f} elapsed.',\n",
        "            end='\\r')\n",
        "\n",
        "    test_loss /= len(test_loader.dataset)\n",
        "    test_acc /= len(test_loader.dataset)\n",
        "            \n",
        "    print(f'Test Loss: {test_loss:.2f}\\t Test Accuracy: {100 * test_acc:.2f}%')\n",
        "    print(f'{timer() - start:.2f} total seconds elapsed.')\n",
        "\n",
        "    return test_loss, test_acc\n",
        "\n",
        "eval_test(model, dataloaders[TEST])"
      ]
    },
    {
      "cell_type": "markdown",
      "id": "0b8838c9",
      "metadata": {},
      "source": [
        "# Other Functions"
      ]
    },
    {
      "cell_type": "markdown",
      "id": "b6f846a8",
      "metadata": {},
      "source": [
        "### Functions that collect more information about a movie (mentioned in potential future work)"
      ]
    },
    {
      "cell_type": "markdown",
      "id": "f9d6afa9",
      "metadata": {},
      "source": [
        "#### Year of Release\n",
        "\n",
        "We can obtain the release year using the tag: `span` and class: `lister-item-year text-muted unbold`. The release date is not given on the website for a few movies since they are still in production. So we write a function to take the value as `None` where no release date is available:"
      ]
    },
    {
      "cell_type": "code",
      "execution_count": null,
      "id": "380996fc",
      "metadata": {},
      "outputs": [],
      "source": [
        "def find_year(movie_soup: BeautifulSoup) -> Optional[int]:\n",
        "    \"\"\"\n",
        "    Return the year of the movie at <movie_tag>.\n",
        "    \n",
        "    Args:\n",
        "        movie_tag (BeautifulSoup): The movie's IMDB page.\n",
        "    \n",
        "    Returns:\n",
        "        Optional[float]: The movie's year of release. None if the movie's\n",
        "        release date is unavailable.\n",
        "    \"\"\"\n",
        "    try:\n",
        "        year = movie_soup.find('span', class_='dli-title-metadata-item').text[-5:]\n",
        "        return int(year)\n",
        "    except (AttributeError, ValueError):\n",
        "        return None"
      ]
    },
    {
      "cell_type": "markdown",
      "id": "c6fc38de",
      "metadata": {},
      "source": [
        "#### Duration"
      ]
    },
    {
      "cell_type": "code",
      "execution_count": null,
      "id": "08e6afb7",
      "metadata": {},
      "outputs": [],
      "source": [
        "def find_duration(movie_tag: BeautifulSoup) -> Optional[float]:\n",
        "    \"\"\"\n",
        "    Return the duration of the movie at <movie_tag>.\n",
        "    \n",
        "    Args:\n",
        "        movie_tag (BeautifulSoup): The movie's IMDB page.\n",
        "    \n",
        "    Returns:\n",
        "        Optional[float]: The movie's duration. None if the movie's\n",
        "        duration is unavailable.\n",
        "    \"\"\"\n",
        "    def dur_to_num(x: str) -> float:\n",
        "        \"\"\"\n",
        "        Return the float version of <x>.\n",
        "        \n",
        "        Args:\n",
        "            x (str): The string to convert to a float.\n",
        "        \n",
        "        Returns:\n",
        "            float: The float version of <x>.\n",
        "        \"\"\"\n",
        "        # If no duration is available, return -1\n",
        "        \n",
        "        if x is None: \n",
        "            return -1\n",
        "        \n",
        "        # Remove the minute tag of duration, then split the duration into parts\n",
        "        x = x.strip('m').split(' ')\n",
        "\n",
        "        # If exactly \"X hrs\" or \"Y mins\"\n",
        "        if len(x) == 1: \n",
        "            # If \"X hrs\"\n",
        "            if (len(x[0].strip('h')) != len(x[0])):\n",
        "                return float(x[0].strip('h')) * HOUR\n",
        "            try:\n",
        "                # If \"Y mins\"\n",
        "                return float(x[0]) # (already stripped 'm')\n",
        "            except:\n",
        "                # Something like Motion Picture Rating (MPA): \"G\"\n",
        "                return -1 # -1 to indicate that no duration has been found\n",
        "        return float(x[0].strip('h')) * HOUR + float(x[1]) # Eg. 1 hr 30 mins\n",
        "    \n",
        "    try:\n",
        "        # Find all spans with the class 'dli-title-metadata-item'\n",
        "        metadata_items = movie_tag.find_all('span', class_ = 'dli-title-metadata-item')\n",
        "\n",
        "        # The duration is expected to be the second item, if it exists.\n",
        "        if len(metadata_items) > 1:\n",
        "            duration = metadata_items[1].text.strip()\n",
        "        else: # Still in production - No duration available\n",
        "            duration = None\n",
        "    except AttributeError:\n",
        "        duration = None\n",
        "\n",
        "    # Return the duration, corresponding to our budget ranges\n",
        "    return dur_to_num(duration)"
      ]
    },
    {
      "cell_type": "markdown",
      "id": "99662293",
      "metadata": {},
      "source": [
        "#### IMDB Rating\n",
        "\n",
        "We can obtain the IMDB rating using the tag: `div` and class: `inline-block ratings-imdb-rating`. The rating is not given on the website for a few movies since they are still in production. So we write a function to take the value as `None` where no rating is available:"
      ]
    },
    {
      "cell_type": "code",
      "execution_count": null,
      "id": "957a49be",
      "metadata": {},
      "outputs": [],
      "source": [
        "def find_imdb_rating(movie_tag: BeautifulSoup) -> Optional[float]:\n",
        "    \"\"\"\n",
        "    Find the IMDB rating of the movie at <movie_tag>.\n",
        "    \n",
        "    Args:\n",
        "        movie_tag (BeautifulSoup): The HTML page of the movie.\n",
        "        \n",
        "    Returns:\n",
        "        Optional[float]: The rating of the movie. None if the rating is unavailable.\n",
        "    \"\"\"\n",
        "    try:\n",
        "        # Using CSS selector to find the span with a part of the class name\n",
        "        rating_span = movie_tag.select_one('span.ipc-rating-star--imdb')\n",
        "\n",
        "        # Extracting the text, splitting by space and taking the first part\n",
        "        if rating_span:\n",
        "            imdb_rating_text = rating_span.text.strip()\n",
        "            imdb_rating = imdb_rating_text.split()[0]  # Split the string and take the first part\n",
        "            imdb_rating = float(imdb_rating)  # Convert to float\n",
        "        else: # Still in production - No duration available\n",
        "            imdb_rating = None \n",
        "    except (AttributeError, ValueError): imdb_rating = None\n",
        "\n",
        "    return imdb_rating"
      ]
    },
    {
      "cell_type": "markdown",
      "id": "084554e0",
      "metadata": {},
      "source": [
        "#### Number of Votes"
      ]
    },
    {
      "cell_type": "code",
      "execution_count": null,
      "id": "ba00c626",
      "metadata": {},
      "outputs": [],
      "source": [
        "def find_votes(movie_tag: BeautifulSoup) -> Optional[float]:\n",
        "    def votes_to_num(x: str) -> int:\n",
        "        \"\"\"\n",
        "        Interpret the extracted string <x> as an integer.\n",
        "\n",
        "        Args:\n",
        "            x (str): The extracted \"Votes\" string\n",
        "\n",
        "        Returns:\n",
        "            int: The integer interpretation of <x>.\n",
        "        \"\"\"\n",
        "        # If there are no votes, return None\n",
        "        if x is None: \n",
        "            return x\n",
        "        \n",
        "        # K = 1,000\n",
        "        if 'K' in x:\n",
        "            if len(x) > 1: return float(x.replace('K', '')) * K\n",
        "            return K\n",
        "        # M = 1,000,000\n",
        "        if 'M' in x:\n",
        "            if len(x) > 1: return float(x.replace('M', '')) * M\n",
        "            return M\n",
        "        # B = 1,000,000,000\n",
        "        if 'B' in x: \n",
        "            return float(x.replace('B', '')) * B\n",
        "        # Otherwise, return 0\n",
        "        return 0\n",
        "    try:\n",
        "        # Using CSS selector to find the span with a part of the class name\n",
        "        rating_span = movie_tag.select_one('span.ipc-rating-star--imdb')\n",
        "\n",
        "        # Extracting the text, splitting by space and taking the first part\n",
        "        if rating_span:\n",
        "            imdb_rating_text = rating_span.text.strip()\n",
        "            imdb_rating = imdb_rating_text.split()[1]  # Split the string and take the second part\n",
        "            imdb_rating = imdb_rating[1:-1]  # Remove the parentheses\n",
        "        else: # Still in production - No duration available  \n",
        "            imdb_rating = None\n",
        "    except (AttributeError, ValueError): imdb_rating = None\n",
        "\n",
        "    return votes_to_num(imdb_rating)"
      ]
    }
  ],
  "metadata": {
    "colab": {
      "provenance": []
    },
    "kernelspec": {
      "display_name": "Python 3 (ipykernel)",
      "language": "python",
      "name": "python3"
    },
    "language_info": {
      "codemirror_mode": {
        "name": "ipython",
        "version": 3
      },
      "file_extension": ".py",
      "mimetype": "text/x-python",
      "name": "python",
      "nbconvert_exporter": "python",
      "pygments_lexer": "ipython3",
      "version": "3.10.11"
    }
  },
  "nbformat": 4,
  "nbformat_minor": 5
}
